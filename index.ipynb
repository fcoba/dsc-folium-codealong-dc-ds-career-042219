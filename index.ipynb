{
 "cells": [
  {
   "cell_type": "markdown",
   "metadata": {},
   "source": [
    "# Folium - Codealong\n",
    "\n",
    "## Introduction \n",
    "\n",
    "In this codealong, we'll take a look at how to create an interactive map using the Folium package. From there, we'll return to APIs in the final lab for the day where you'll make an interactive map from your requests to the API!\n",
    "\n",
    "## Objectives\n",
    "\n",
    "You will be able to: \n",
    "* Create maps with Folium"
   ]
  },
  {
   "cell_type": "markdown",
   "metadata": {},
   "source": [
    "## Creating a Basemap\n",
    "\n",
    "Here we'll take a look at creating a basemap over the London region!"
   ]
  },
  {
   "cell_type": "code",
   "execution_count": 1,
   "metadata": {
    "scrolled": false
   },
   "outputs": [
    {
     "data": {
      "text/html": [
       "<div style=\"width:100%;\"><div style=\"position:relative;width:100%;height:0;padding-bottom:60%;\"><iframe src=\"data:text/html;charset=utf-8;base64,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\" style=\"position:absolute;width:100%;height:100%;left:0;top:0;border:none !important;\" allowfullscreen webkitallowfullscreen mozallowfullscreen></iframe></div></div>"
      ],
      "text/plain": [
       "<folium.folium.Map at 0x7fcac03efcc0>"
      ]
     },
     "execution_count": 1,
     "metadata": {},
     "output_type": "execute_result"
    }
   ],
   "source": [
    "import folium\n",
    "\n",
    "lat = 51.51\n",
    "long = -0.14\n",
    "\n",
    "#Create a map of the area\n",
    "base_map = folium.Map([lat, long], zoom_start=13)\n",
    "base_map"
   ]
  },
  {
   "cell_type": "markdown",
   "metadata": {},
   "source": [
    "## Adding Markers to the Map\n",
    "\n",
    "Great! Now let's take a look at adding little markers to our map!\n",
    "\n",
    "**Note:** you may have to zoom out to see all of the markers!"
   ]
  },
  {
   "cell_type": "code",
   "execution_count": 2,
   "metadata": {},
   "outputs": [
    {
     "data": {
      "text/html": [
       "<div style=\"width:100%;\"><div style=\"position:relative;width:100%;height:0;padding-bottom:60%;\"><iframe src=\"data:text/html;charset=utf-8;base64,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\" style=\"position:absolute;width:100%;height:100%;left:0;top:0;border:none !important;\" allowfullscreen webkitallowfullscreen mozallowfullscreen></iframe></div></div>"
      ],
      "text/plain": [
       "<folium.folium.Map at 0x7fcac03efcc0>"
      ]
     },
     "execution_count": 2,
     "metadata": {},
     "output_type": "execute_result"
    }
   ],
   "source": [
    "import numpy as np\n",
    "\n",
    "#Generate some random locations to add to our map\n",
    "x = [lat + np.random.uniform(-.1,.1) for i in range(20)]\n",
    "y = [long + np.random.uniform(-.1,.1) for i in range(20)]\n",
    "points = list(zip(x, y))\n",
    "for p in points:\n",
    "    lat = p[0]\n",
    "    long = p[1]\n",
    "    marker = folium.Marker(location=[lat, long])\n",
    "    marker.add_to(base_map)\n",
    "base_map"
   ]
  },
  {
   "cell_type": "markdown",
   "metadata": {},
   "source": [
    "## Adding Pop-up Boxes to Our Markers\n",
    "\n",
    "Often we may wish to not only place markers on the map, but to create interactive pop-ups which display information to that location. To do this, we can add a popup to our markers when adding them to the map! "
   ]
  },
  {
   "cell_type": "code",
   "execution_count": null,
   "metadata": {},
   "outputs": [],
   "source": [
    "for p in points:\n",
    "    lat = p[0]\n",
    "    long = p[1]\n",
    "    popup_text = \"Latitude: {}, Longitude: {}\".format(lat,long)\n",
    "    popup = folium.Popup(popup_text, parse_html=True)\n",
    "    marker = folium.Marker(location=[lat, long], popup=popup)\n",
    "    marker.add_to(base_map)\n",
    "base_map"
   ]
  },
  {
   "cell_type": "markdown",
   "metadata": {},
   "source": [
    "Now, if you click on the map markers, you should see a little information box pop up!\n",
    "\n",
    "## Summary \n",
    "\n",
    "In this codealong, we learned how to use Folium to create some cool interactive maps with only a few lines of python code! In the next lab, you'll synthesize your skills for the day together and create an interactive visualization map for data you retrieve from the Yelp API!"
   ]
  }
 ],
 "metadata": {
  "kernelspec": {
   "display_name": "Python 3",
   "language": "python",
   "name": "python3"
  },
  "language_info": {
   "codemirror_mode": {
    "name": "ipython",
    "version": 3
   },
   "file_extension": ".py",
   "mimetype": "text/x-python",
   "name": "python",
   "nbconvert_exporter": "python",
   "pygments_lexer": "ipython3",
   "version": "3.6.6"
  }
 },
 "nbformat": 4,
 "nbformat_minor": 2
}
